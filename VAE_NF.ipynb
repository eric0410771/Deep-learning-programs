{
  "nbformat": 4,
  "nbformat_minor": 0,
  "metadata": {
    "colab": {
      "name": "VAE_NF.ipynb",
      "provenance": [],
      "collapsed_sections": []
    },
    "kernelspec": {
      "name": "python3",
      "display_name": "Python 3"
    }
  },
  "cells": [
    {
      "cell_type": "markdown",
      "metadata": {
        "id": "TI9ksodaI5Hu",
        "colab_type": "text"
      },
      "source": [
        "https://github.com/riannevdberg/sylvester-flows/blob/master/optimization/loss.py"
      ]
    },
    {
      "cell_type": "code",
      "metadata": {
        "id": "npagFzhNz26R",
        "colab_type": "code",
        "colab": {
          "base_uri": "https://localhost:8080/",
          "height": 33
        },
        "outputId": "f49e5e60-848f-473d-b431-d9a15dd8072b"
      },
      "source": [
        "import numpy as np\n",
        "import torch\n",
        "import torch.nn as nn\n",
        "import torch.optim as optims\n",
        "from keras.datasets import mnist\n",
        "\n",
        "import matplotlib.pyplot as plt\n",
        "\n",
        "device = torch.device('cpu')\n",
        "if torch.cuda.is_available():\n",
        "    device = torch.device('cuda')\n"
      ],
      "execution_count": null,
      "outputs": [
        {
          "output_type": "stream",
          "text": [
            "Using TensorFlow backend.\n"
          ],
          "name": "stderr"
        }
      ]
    },
    {
      "cell_type": "code",
      "metadata": {
        "id": "I3jmDldy7FXv",
        "colab_type": "code",
        "colab": {
          "base_uri": "https://localhost:8080/",
          "height": 50
        },
        "outputId": "28efc04a-72c7-4c95-a4b3-4682b9a088e5"
      },
      "source": [
        "(x_train, y_train),(x_test, y_test) = mnist.load_data()"
      ],
      "execution_count": null,
      "outputs": [
        {
          "output_type": "stream",
          "text": [
            "Downloading data from https://s3.amazonaws.com/img-datasets/mnist.npz\n",
            "11493376/11490434 [==============================] - 0s 0us/step\n"
          ],
          "name": "stdout"
        }
      ]
    },
    {
      "cell_type": "code",
      "metadata": {
        "id": "bU0YKlc_0WZx",
        "colab_type": "code",
        "colab": {}
      },
      "source": [
        "def log_norm_diag(value, mean = None, log_var = None, dim = 1):\n",
        "    if mean is not None and log_var is not None:\n",
        "        log_norm = -(value - mean)**2\n",
        "        log_norm *= torch.reciprocal(2.*log_var.exp())\n",
        "        log_norm += -0.5 * log_var\n",
        "    else:\n",
        "        log_norm = -0.5 * (value) ** 2\n",
        "        \n",
        "    return torch.mean(log_norm, dim = 1)\n",
        "\n",
        "class RealNVP(nn.Module):\n",
        "    def __init__(self, z0_dim, hidden_dim, n_flow):\n",
        "        super().__init__()\n",
        "        \n",
        "        scale_net = lambda: nn.Sequential(nn.Linear(z0_dim, hidden_dim), nn.ReLU(), nn.Linear(hidden_dim, hidden_dim), nn.ReLU(), nn.Linear(hidden_dim, z0_dim))\n",
        "        trans_net = lambda: nn.Sequential(nn.Linear(z0_dim, hidden_dim), nn.ReLU(), nn.Linear(hidden_dim, hidden_dim), nn.ReLU(), nn.Linear(hidden_dim, z0_dim))\n",
        "        mask = np.ones((z0_dim,))\n",
        "        mask[:int(z0_dim/2)] = 0        \n",
        "        f_mask = [1 - mask, mask] * int(n_flow/2)\n",
        "        \n",
        "        self.scale_net = nn.ModuleList(scale_net() for i in range(len(f_mask)))\n",
        "        self.trans_net = nn.ModuleList(trans_net() for i in range(len(f_mask)))\n",
        "        self.mask = nn.Parameter(torch.tensor(f_mask).type('torch.FloatTensor'), requires_grad = False)\n",
        "        \n",
        "    def z2x(self, z0, generate_mode = False):\n",
        "        x = z0\n",
        "        log_det_j = 0\n",
        "        for i in range(len(self.mask)):\n",
        "            x_ = x * self.mask[i]\n",
        "            s = self.scale_net[i](x_) * (1 - self.mask[i])\n",
        "            t = self.trans_net[i](x_) * (1 - self.mask[i])\n",
        "            x = x_ + (1 - self.mask[i]) * (x * torch.exp(s) + t)\n",
        "            log_det_j -= torch.sum(s,dim = 1)\n",
        "        if generate_mode:\n",
        "            return x\n",
        "        else:\n",
        "            return x, log_det_j\n",
        "        \n",
        "    def forward(self, z0, generate_mode = False):\n",
        "        return self.z2x(z0, generate_mode)\n",
        "\n",
        "class VAE(nn.Module):\n",
        "    def __init__(self, input_dim, hidden_dim, with_normalizing_flow = False,n_flow = 5):\n",
        "        super().__init__()\n",
        "        self.input_dim = input_dim\n",
        "        self.hidden_dim = hidden_dim\n",
        "        self.with_normalizing_flow = with_normalizing_flow\n",
        "        \n",
        "        self.encoder = self.build_encoder(input_dim, hidden_dim)\n",
        "        self.decoder = self.build_decoder(hidden_dim, input_dim)\n",
        "        self.h_mean = nn.Sequential(nn.Linear(hidden_dim, 64),nn.ReLU(),nn.Linear(64, 64), nn.ReLU(), nn.Linear(64,hidden_dim))\n",
        "        self.h_std = nn.Sequential(nn.Linear(hidden_dim, 64),nn.ReLU(), nn.Linear(64, 64), nn.ReLU(), nn.Linear(64,hidden_dim))\n",
        "        self.device = torch.device('cpu')\n",
        "        if torch.cuda.is_available():\n",
        "            self.device = torch.device('cuda')\n",
        "        if self.with_normalizing_flow:\n",
        "            self.flow = RealNVP(hidden_dim, hidden_dim, n_flow)\n",
        "        \n",
        "        \n",
        "    def generate(self, batch_size):\n",
        "        z = np.random.normal(size = (batch_size, self.hidden_dim))\n",
        "        z = torch.tensor(z).type('torch.FloatTensor').to(self.device)\n",
        "        \n",
        "        if self.with_normalizing_flow:\n",
        "            z = self.flow(z, True)\n",
        "            \n",
        "        output = self.decoder(z)\n",
        "        return output\n",
        "    \n",
        "    def build_encoder(self, input_dim, output_dim):\n",
        "        model = nn.Sequential(nn.Linear(input_dim,32),nn.ReLU(),nn.Linear(32,output_dim))\n",
        "        return model\n",
        "    \n",
        "    def build_decoder(self, input_dim, output_dim):\n",
        "        model = nn.Sequential(nn.Linear(input_dim,32), nn.ReLU(), nn.Linear(32, output_dim))\n",
        "        return model\n",
        "    \n",
        "    def reparameter_trick(self, z_mean, z_std):\n",
        "        batch_size, feature_dim = z_std.size()\n",
        "        epsilon = np.random.normal(size = (batch_size, feature_dim))\n",
        "        epsilon = torch.tensor(epsilon).type('torch.FloatTensor').to(self.device)\n",
        "        z = z_mean + epsilon * torch.exp(z_std)\n",
        "        return z\n",
        "    \n",
        "    def forward(self, x):\n",
        "        batch_size = x.size()[0]\n",
        "        \n",
        "        encode_ = self.encoder(x)\n",
        "        z_mean = self.h_mean(encode_)\n",
        "        z_std = self.h_std(encode_)    ##z_std := log_var\n",
        "        z = self.reparameter_trick(z_mean, z_std)      \n",
        "\n",
        "        if not self.with_normalizing_flow:\n",
        "            decode_ = self.decoder(z)\n",
        "            reconstruction_loss = torch.sum((x - decode_) ** 2)/batch_size\n",
        "            kl_loss = torch.sum(-0.5 * (1 + z_std - z_mean ** 2 - torch.exp(z_std)))\n",
        "            loss = reconstruction_loss + kl_loss\n",
        "        else:\n",
        "            zk, log_det_j = self.flow(z)    \n",
        "            qz_log_norm = log_norm_diag(z, z_mean, z_std)\n",
        "            pz_log_norm = log_norm_diag(zk)\n",
        "            decode_ = self.decoder(zk)\n",
        "            reconstruction_loss = torch.sum((x - decode_) ** 2)/batch_size\n",
        "            kl_loss = torch.sum(qz_log_norm - pz_log_norm)/batch_size + torch.sum(log_det_j)/batch_size \n",
        "            loss = reconstruction_loss + kl_loss\n",
        "        #loss = reconstruction_loss\n",
        "        return loss, kl_loss, reconstruction_loss, log_det_j, decode_"
      ],
      "execution_count": null,
      "outputs": []
    },
    {
      "cell_type": "code",
      "metadata": {
        "id": "CjQfxfXw0bKk",
        "colab_type": "code",
        "colab": {}
      },
      "source": [
        "vae_nf = VAE(784, 2, True)\n",
        "optim = optims.Adam(vae_nf.parameters())"
      ],
      "execution_count": null,
      "outputs": []
    },
    {
      "cell_type": "code",
      "metadata": {
        "id": "Y9zi7DWG4FAa",
        "colab_type": "code",
        "colab": {}
      },
      "source": [
        "x_data = x_train.reshape(-1, 784)"
      ],
      "execution_count": null,
      "outputs": []
    },
    {
      "cell_type": "code",
      "metadata": {
        "id": "AzEwIWVH4dhR",
        "colab_type": "code",
        "colab": {}
      },
      "source": [
        "epochs = 10000"
      ],
      "execution_count": null,
      "outputs": []
    },
    {
      "cell_type": "code",
      "metadata": {
        "id": "WEaNMnWp4KFt",
        "colab_type": "code",
        "colab": {
          "base_uri": "https://localhost:8080/",
          "height": 767
        },
        "outputId": "49f2b6e4-b0ad-4ab6-c380-5c4cf5bda4f9"
      },
      "source": [
        "for epoch in range(epochs):\n",
        "    batch_index = np.random.choice(len(x_data),20)\n",
        "    batch_x = x_data[batch_index]/255.0\n",
        "    batch_x = torch.tensor(batch_x).type('torch.FloatTensor').to(device)\n",
        "    loss, kl_loss, reconstruction_loss, log_det_j, output = vae_nf(batch_x)\n",
        "    optim.zero_grad()\n",
        "    loss.backward()\n",
        "    optim.step()\n",
        "    if epoch % 100 == 0:\n",
        "        print(\"Loss :\",loss.detach().cpu().numpy(),'kl_loss :',kl_loss.detach().cpu().numpy(),\"reconstruction_loss :\",reconstruction_loss.detach().cpu().numpy())"
      ],
      "execution_count": null,
      "outputs": [
        {
          "output_type": "stream",
          "text": [
            "Loss : 34.89923 kl_loss : -5.092659 reconstruction_loss : 39.99189\n",
            "Loss : 36.35741 kl_loss : -5.0722947 reconstruction_loss : 41.429707\n",
            "Loss : 37.93788 kl_loss : -4.9335074 reconstruction_loss : 42.871387\n",
            "Loss : 29.85212 kl_loss : -5.368594 reconstruction_loss : 35.220715\n",
            "Loss : 30.868114 kl_loss : -5.5294485 reconstruction_loss : 36.397564\n",
            "Loss : 31.470705 kl_loss : -5.300036 reconstruction_loss : 36.77074\n",
            "Loss : 33.688583 kl_loss : -5.235546 reconstruction_loss : 38.92413\n",
            "Loss : 34.22064 kl_loss : -5.48512 reconstruction_loss : 39.705757\n",
            "Loss : 31.520529 kl_loss : -5.6058598 reconstruction_loss : 37.12639\n",
            "Loss : 31.425167 kl_loss : -5.5493197 reconstruction_loss : 36.974487\n",
            "Loss : 33.518703 kl_loss : -5.5864215 reconstruction_loss : 39.105125\n",
            "Loss : 35.907642 kl_loss : -5.947168 reconstruction_loss : 41.85481\n",
            "Loss : 30.153553 kl_loss : -5.888142 reconstruction_loss : 36.041695\n",
            "Loss : 36.65612 kl_loss : -5.7079854 reconstruction_loss : 42.364105\n",
            "Loss : 36.87844 kl_loss : -5.5969896 reconstruction_loss : 42.47543\n",
            "Loss : 32.773884 kl_loss : -6.2916536 reconstruction_loss : 39.065536\n",
            "Loss : 35.38906 kl_loss : -6.3865414 reconstruction_loss : 41.775604\n",
            "Loss : 36.83661 kl_loss : -6.3049 reconstruction_loss : 43.14151\n",
            "Loss : 32.92226 kl_loss : -6.4598126 reconstruction_loss : 39.382072\n",
            "Loss : 31.976791 kl_loss : -6.387191 reconstruction_loss : 38.363983\n",
            "Loss : 34.47623 kl_loss : -6.287661 reconstruction_loss : 40.763893\n",
            "Loss : 30.791855 kl_loss : -6.077442 reconstruction_loss : 36.869297\n",
            "Loss : 29.911865 kl_loss : -6.567749 reconstruction_loss : 36.479614\n",
            "Loss : 37.795746 kl_loss : -6.92652 reconstruction_loss : 44.722267\n"
          ],
          "name": "stdout"
        },
        {
          "output_type": "error",
          "ename": "KeyboardInterrupt",
          "evalue": "ignored",
          "traceback": [
            "\u001b[0;31m---------------------------------------------------------------------------\u001b[0m",
            "\u001b[0;31mKeyboardInterrupt\u001b[0m                         Traceback (most recent call last)",
            "\u001b[0;32m<ipython-input-12-8b9eb9d956d6>\u001b[0m in \u001b[0;36m<module>\u001b[0;34m()\u001b[0m\n\u001b[1;32m      6\u001b[0m     \u001b[0moptim\u001b[0m\u001b[0;34m.\u001b[0m\u001b[0mzero_grad\u001b[0m\u001b[0;34m(\u001b[0m\u001b[0;34m)\u001b[0m\u001b[0;34m\u001b[0m\u001b[0;34m\u001b[0m\u001b[0m\n\u001b[1;32m      7\u001b[0m     \u001b[0mloss\u001b[0m\u001b[0;34m.\u001b[0m\u001b[0mbackward\u001b[0m\u001b[0;34m(\u001b[0m\u001b[0;34m)\u001b[0m\u001b[0;34m\u001b[0m\u001b[0;34m\u001b[0m\u001b[0m\n\u001b[0;32m----> 8\u001b[0;31m     \u001b[0moptim\u001b[0m\u001b[0;34m.\u001b[0m\u001b[0mstep\u001b[0m\u001b[0;34m(\u001b[0m\u001b[0;34m)\u001b[0m\u001b[0;34m\u001b[0m\u001b[0;34m\u001b[0m\u001b[0m\n\u001b[0m\u001b[1;32m      9\u001b[0m     \u001b[0;32mif\u001b[0m \u001b[0mepoch\u001b[0m \u001b[0;34m%\u001b[0m \u001b[0;36m100\u001b[0m \u001b[0;34m==\u001b[0m \u001b[0;36m0\u001b[0m\u001b[0;34m:\u001b[0m\u001b[0;34m\u001b[0m\u001b[0;34m\u001b[0m\u001b[0m\n\u001b[1;32m     10\u001b[0m         \u001b[0mprint\u001b[0m\u001b[0;34m(\u001b[0m\u001b[0;34m\"Loss :\"\u001b[0m\u001b[0;34m,\u001b[0m\u001b[0mloss\u001b[0m\u001b[0;34m.\u001b[0m\u001b[0mdetach\u001b[0m\u001b[0;34m(\u001b[0m\u001b[0;34m)\u001b[0m\u001b[0;34m.\u001b[0m\u001b[0mcpu\u001b[0m\u001b[0;34m(\u001b[0m\u001b[0;34m)\u001b[0m\u001b[0;34m.\u001b[0m\u001b[0mnumpy\u001b[0m\u001b[0;34m(\u001b[0m\u001b[0;34m)\u001b[0m\u001b[0;34m,\u001b[0m\u001b[0;34m'kl_loss :'\u001b[0m\u001b[0;34m,\u001b[0m\u001b[0mkl_loss\u001b[0m\u001b[0;34m.\u001b[0m\u001b[0mdetach\u001b[0m\u001b[0;34m(\u001b[0m\u001b[0;34m)\u001b[0m\u001b[0;34m.\u001b[0m\u001b[0mcpu\u001b[0m\u001b[0;34m(\u001b[0m\u001b[0;34m)\u001b[0m\u001b[0;34m.\u001b[0m\u001b[0mnumpy\u001b[0m\u001b[0;34m(\u001b[0m\u001b[0;34m)\u001b[0m\u001b[0;34m,\u001b[0m\u001b[0;34m\"reconstruction_loss :\"\u001b[0m\u001b[0;34m,\u001b[0m\u001b[0mreconstruction_loss\u001b[0m\u001b[0;34m.\u001b[0m\u001b[0mdetach\u001b[0m\u001b[0;34m(\u001b[0m\u001b[0;34m)\u001b[0m\u001b[0;34m.\u001b[0m\u001b[0mcpu\u001b[0m\u001b[0;34m(\u001b[0m\u001b[0;34m)\u001b[0m\u001b[0;34m.\u001b[0m\u001b[0mnumpy\u001b[0m\u001b[0;34m(\u001b[0m\u001b[0;34m)\u001b[0m\u001b[0;34m)\u001b[0m\u001b[0;34m\u001b[0m\u001b[0;34m\u001b[0m\u001b[0m\n",
            "\u001b[0;32m/usr/local/lib/python3.6/dist-packages/torch/optim/adam.py\u001b[0m in \u001b[0;36mstep\u001b[0;34m(self, closure)\u001b[0m\n\u001b[1;32m     91\u001b[0m \u001b[0;34m\u001b[0m\u001b[0m\n\u001b[1;32m     92\u001b[0m                 \u001b[0;31m# Decay the first and second moment running average coefficient\u001b[0m\u001b[0;34m\u001b[0m\u001b[0;34m\u001b[0m\u001b[0;34m\u001b[0m\u001b[0m\n\u001b[0;32m---> 93\u001b[0;31m                 \u001b[0mexp_avg\u001b[0m\u001b[0;34m.\u001b[0m\u001b[0mmul_\u001b[0m\u001b[0;34m(\u001b[0m\u001b[0mbeta1\u001b[0m\u001b[0;34m)\u001b[0m\u001b[0;34m.\u001b[0m\u001b[0madd_\u001b[0m\u001b[0;34m(\u001b[0m\u001b[0;36m1\u001b[0m \u001b[0;34m-\u001b[0m \u001b[0mbeta1\u001b[0m\u001b[0;34m,\u001b[0m \u001b[0mgrad\u001b[0m\u001b[0;34m)\u001b[0m\u001b[0;34m\u001b[0m\u001b[0;34m\u001b[0m\u001b[0m\n\u001b[0m\u001b[1;32m     94\u001b[0m                 \u001b[0mexp_avg_sq\u001b[0m\u001b[0;34m.\u001b[0m\u001b[0mmul_\u001b[0m\u001b[0;34m(\u001b[0m\u001b[0mbeta2\u001b[0m\u001b[0;34m)\u001b[0m\u001b[0;34m.\u001b[0m\u001b[0maddcmul_\u001b[0m\u001b[0;34m(\u001b[0m\u001b[0;36m1\u001b[0m \u001b[0;34m-\u001b[0m \u001b[0mbeta2\u001b[0m\u001b[0;34m,\u001b[0m \u001b[0mgrad\u001b[0m\u001b[0;34m,\u001b[0m \u001b[0mgrad\u001b[0m\u001b[0;34m)\u001b[0m\u001b[0;34m\u001b[0m\u001b[0;34m\u001b[0m\u001b[0m\n\u001b[1;32m     95\u001b[0m                 \u001b[0;32mif\u001b[0m \u001b[0mamsgrad\u001b[0m\u001b[0;34m:\u001b[0m\u001b[0;34m\u001b[0m\u001b[0;34m\u001b[0m\u001b[0m\n",
            "\u001b[0;31mKeyboardInterrupt\u001b[0m: "
          ]
        }
      ]
    },
    {
      "cell_type": "code",
      "metadata": {
        "id": "jNuOD-GR44U_",
        "colab_type": "code",
        "colab": {}
      },
      "source": [
        "def plot_result(output):\n",
        "    batch_size = output.size()[0]\n",
        "    output = output.detach().cpu().numpy()\n",
        "    output = output.reshape((batch_size, 28,28))\n",
        "    output = np.clip(output, a_min = 0.0, a_max = 1.0)\n",
        "    plt.subplots(1, batch_size,figsize = (25,25))\n",
        "    for i in range(batch_size):\n",
        "        plt.subplot(1, batch_size, i+1)\n",
        "        plt.imshow(output[i], cmap = 'gray')\n",
        "    plt.show()"
      ],
      "execution_count": null,
      "outputs": []
    },
    {
      "cell_type": "code",
      "metadata": {
        "id": "rmSPASlo-CuT",
        "colab_type": "code",
        "colab": {
          "base_uri": "https://localhost:8080/",
          "height": 130
        },
        "outputId": "6c629b19-4115-4756-c5f7-e7c0701c4a76"
      },
      "source": [
        "plot_result(output)"
      ],
      "execution_count": null,
      "outputs": [
        {
          "output_type": "display_data",
          "data": {
            "image/png": "[encoded data removed]",
            "text/plain": [
              "<Figure size 1800x1800 with 20 Axes>"
            ]
          },
          "metadata": {
            "tags": []
          }
        }
      ]
    },
    {
      "cell_type": "code",
      "metadata": {
        "id": "kx7dU_0uWZov",
        "colab_type": "code",
        "colab": {
          "base_uri": "https://localhost:8080/",
          "height": 35
        },
        "outputId": "6cf37365-2e86-4a55-e1c3-56a3b25254da"
      },
      "source": [
        "print(output.size())"
      ],
      "execution_count": null,
      "outputs": [
        {
          "output_type": "stream",
          "text": [
            "torch.Size([20, 784])\n"
          ],
          "name": "stdout"
        }
      ]
    },
    {
      "cell_type": "code",
      "metadata": {
        "id": "bnUfY2YNWeDB",
        "colab_type": "code",
        "colab": {}
      },
      "source": [
        "gaussian_sample = np.random.normal(size = (100000,2))\n",
        "gaussian_sample = torch.Tensor(gaussian_sample).type('torch.FloatTensor').to(device)"
      ],
      "execution_count": null,
      "outputs": []
    },
    {
      "cell_type": "code",
      "metadata": {
        "id": "_KTU2IHkXmE5",
        "colab_type": "code",
        "colab": {}
      },
      "source": [
        "x, _ = vae_nf.flow.z2x(gaussian_sample)"
      ],
      "execution_count": null,
      "outputs": []
    },
    {
      "cell_type": "code",
      "metadata": {
        "id": "Nehp9jDuXyCa",
        "colab_type": "code",
        "colab": {
          "base_uri": "https://localhost:8080/",
          "height": 539
        },
        "outputId": "d1166a2b-647e-4ec8-f8c2-cb515d9f3875"
      },
      "source": [
        "x = x.detach().cpu().numpy()\n",
        "plt.scatter(gaussian_sample[:,0],gaussian_sample[:,1])\n",
        "plt.show()\n",
        "plt.scatter(x[:,0],x[:,1])"
      ],
      "execution_count": null,
      "outputs": [
        {
          "output_type": "display_data",
          "data": {
            "image/png": "[encoded data removed]",
            "text/plain": [
              "<Figure size 432x288 with 1 Axes>"
            ]
          },
          "metadata": {
            "tags": []
          }
        },
        {
          "output_type": "execute_result",
          "data": {
            "text/plain": [
              "<matplotlib.collections.PathCollection at 0x7f9d6f4e1ba8>"
            ]
          },
          "metadata": {
            "tags": []
          },
          "execution_count": 64
        },
        {
          "output_type": "display_data",
          "data": {
            "image/png": "[encoded data removed]",
            "text/plain": [
              "<Figure size 432x288 with 1 Axes>"
            ]
          },
          "metadata": {
            "tags": []
          }
        }
      ]
    },
    {
      "cell_type": "markdown",
      "metadata": {
        "id": "RJ5AmVpBXJbk",
        "colab_type": "text"
      },
      "source": [
        "實作過程中突然發現Loss變成Nan，一部份是因為計算gaussian機率時有問題，另一個關鍵錯誤是在flow的過程中是 x = x_ + (1 - self.mask[i]) * (<font color = 'red'>x</font> * torch.exp(s) + t)，是x而不是x_，x_後面早就被mask調拉，哪有辦法乘阿。"
      ]
    },
    {
      "cell_type": "code",
      "metadata": {
        "id": "6obuFCF6iBnR",
        "colab_type": "code",
        "colab": {}
      },
      "source": [
        ""
      ],
      "execution_count": null,
      "outputs": []
    }
  ]
}