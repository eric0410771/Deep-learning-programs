{
  "nbformat": 4,
  "nbformat_minor": 0,
  "metadata": {
    "colab": {
      "name": "VAE",
      "provenance": [],
      "collapsed_sections": []
    },
    "kernelspec": {
      "name": "python3",
      "display_name": "Python 3"
    },
    "accelerator": "GPU"
  },
  "cells": [
    {
      "cell_type": "code",
      "metadata": {
        "id": "h2dFTqvGlfy7",
        "colab_type": "code",
        "colab": {}
      },
      "source": [
        "import tensorflow as tf\n",
        "import numpy as np\n",
        "import matplotlib.pyplot as plt\n",
        "import torch"
      ],
      "execution_count": null,
      "outputs": []
    },
    {
      "cell_type": "code",
      "metadata": {
        "id": "ty6UH-4EgrUS",
        "colab_type": "code",
        "colab": {
          "base_uri": "https://localhost:8080/",
          "height": 52
        },
        "outputId": "cd9cb829-c803-4d92-8a33-e1c26a192450"
      },
      "source": [
        "data = torch.zeros((3,4))\n",
        "print(data.size())\n",
        "output,_ = torch.max(data,1,keepdim = True)\n",
        "print(output.size())"
      ],
      "execution_count": null,
      "outputs": [
        {
          "output_type": "stream",
          "text": [
            "torch.Size([3, 4])\n",
            "torch.Size([3, 1])\n"
          ],
          "name": "stdout"
        }
      ]
    },
    {
      "cell_type": "code",
      "metadata": {
        "id": "5JnqlShhlmxM",
        "colab_type": "code",
        "colab": {}
      },
      "source": [
        "from keras.datasets import mnist"
      ],
      "execution_count": null,
      "outputs": []
    },
    {
      "cell_type": "code",
      "metadata": {
        "id": "UU6A2FChlvKL",
        "colab_type": "code",
        "colab": {}
      },
      "source": [
        "(x_train,t_target), (x_test,y_test) = mnist.load_data()\n",
        "x_train = x_train.astype('float32')/255.0\n",
        "x_test = x_train.astype('float32')/255.0\n",
        "x_train = x_train.reshape(-1,784)\n",
        "x_test = x_test.reshape(-1,784)"
      ],
      "execution_count": null,
      "outputs": []
    },
    {
      "cell_type": "code",
      "metadata": {
        "id": "vUf1MtuywIUZ",
        "colab_type": "code",
        "colab": {}
      },
      "source": [
        "def next_batch(input_data,target_data,batch_size):\n",
        "    idx = np.arange(0,len(input_data))\n",
        "    np.random.shuffle(idx)\n",
        "    idx = idx[:batch_size]\n",
        "    input_shuffle = [input_data[i] for i in idx]\n",
        "    target_shuffle = [target_data[i] for i in idx]\n",
        "    return np.asarray(input_shuffle),np.asarray(target_shuffle)"
      ],
      "execution_count": null,
      "outputs": []
    },
    {
      "cell_type": "code",
      "metadata": {
        "id": "7OBo5mFbl3UN",
        "colab_type": "code",
        "colab": {}
      },
      "source": [
        "class VAE():\n",
        "  \n",
        "    def  __init__(self,input_dim,encode_dim,layer = 4):\n",
        "        self.input_dim = input_dim\n",
        "        self.encode_dim = encode_dim\n",
        "        self.layer = 4\n",
        "        self.initial_placeholder(input_dim)\n",
        "        self.output,self.predict = self.build_model()\n",
        "        self.loss,self.train_op = self.get_train_op(self.predict)\n",
        "        self.sess = tf.Session()\n",
        "        self.sess.run(tf.global_variables_initializer())\n",
        "    def initial_placeholder(self,input_dim):\n",
        "        self.Input_placeholder = tf.placeholder(tf.float32,shape = [None,input_dim])\n",
        "        self.Output_placeholder = tf.placeholder(tf.float32,shape = [None,input_dim])\n",
        "    def build_model(self):\n",
        "        with tf.variable_scope('encoder',reuse=tf.AUTO_REUSE):\n",
        "            w1 = tf.get_variable('w1',shape = (self.input_dim,256),initializer = tf.contrib.layers.xavier_initializer())\n",
        "            b1 = tf.get_variable('b1',shape = (256,),initializer = tf.initializers.zeros())\n",
        "            \n",
        "            out1 = tf.nn.relu(tf.matmul(self.Input_placeholder,w1) + b1)\n",
        "            \n",
        "            w2 = tf.get_variable('w2',shape = (256,32),initializer = tf.contrib.layers.xavier_initializer())\n",
        "            b2 = tf.get_variable('b2',shape = (32,),initializer = tf.initializers.zeros())\n",
        "            \n",
        "            #out2 = tf.nn.relu(tf.matmul(out1,w2) + b2)\n",
        "            \n",
        "            en_mean_w = tf.get_variable('en_mean_w',shape = (256,self.encode_dim),initializer = tf.contrib.layers.xavier_initializer())       \n",
        "            en_mean_b = tf.get_variable('en_mean_b',shape = (self.encode_dim,),initializer = tf.initializers.zeros())\n",
        "            self.en_mean = (tf.matmul(out1,en_mean_w) + en_mean_b)\n",
        "            \n",
        "            en_var_w = tf.get_variable('en_var_w',shape = (256,self.encode_dim),initializer = tf.contrib.layers.xavier_initializer())\n",
        "            en_var_b = tf.get_variable('en_var_b',shape = (self.encode_dim,),initializer = tf.initializers.ones())\n",
        "            self.en_var = (tf.matmul(out1,en_var_w) + en_var_b )\n",
        "            \n",
        "            epsilon = tf.random_normal(shape = (tf.shape(self.en_mean)[0],tf.shape(self.en_mean)[1]),mean = 0,stddev = 1)\n",
        "            self.en_out = self.en_mean + tf.exp(self.en_var/2)* epsilon\n",
        "            \n",
        "        with tf.variable_scope('decoder',reuse=tf.AUTO_REUSE):\n",
        "            de_w1 = tf.get_variable('w1',shape = (self.encode_dim,256),initializer = tf.random_normal_initializer(mean = 0,stddev = 1))\n",
        "            de_b1 = tf.get_variable('b1',shape = (256,),initializer = tf.initializers.zeros())\n",
        "            de_out1 = (tf.matmul(self.en_out,de_w1) + de_b1)\n",
        "            \n",
        "            #de_w2 = tf.get_variable('w2',shape = (32,512), initializer = tf.random_normal_initializer(mean = 0,stddev = 1))\n",
        "            #de_b2 = tf.get_variable('b2',shape = (512,), initializer = tf.initializers.zeros())\n",
        "            \n",
        "            #de_out2 = (tf.matmul(de_out1,de_w2) + de_b2)\n",
        "            \n",
        "            de_w3 = tf.get_variable('w3',shape = (256,784),initializer = tf.random_normal_initializer(mean = 0,stddev = 1))\n",
        "            de_b3 = tf.get_variable('b3',shape = (784,),initializer = tf.initializers.zeros())\n",
        "            output = tf.matmul(de_out1,de_w3) + de_b3\n",
        "            result = tf.sigmoid(output)\n",
        "        return result,output\n",
        "    def get_dict(self,_input,output = None):\n",
        "        feed_dict = {}\n",
        "        feed_dict[self.Input_placeholder] = _input\n",
        "        if output is not None:\n",
        "            feed_dict[self.Output_placeholder] = output\n",
        "        return feed_dict\n",
        "    def get_train_op(self,predict):\n",
        "        loss = tf.reduce_sum(-0.5*(1 + self.en_var - tf.square(self.en_mean)- tf.exp(self.en_var)),axis = -1)\n",
        "        loss = tf.reduce_mean(tf.transpose(784 * tf.nn.sigmoid_cross_entropy_with_logits(labels = self.Output_placeholder,logits = predict)) + loss)\n",
        "        train_op = tf.train.AdamOptimizer(learning_rate = 0.01).minimize(loss)\n",
        "        return loss,train_op\n",
        "      \n",
        "      \n",
        "    def fit(self,input_data,target_data,batch_size,epoches):\n",
        "        for epoch in range(epoches):\n",
        "            for batch_time in range(int(len(input_data)/batch_size)):\n",
        "                input_shuffle,target_shuffle = next_batch(input_data,target_data,batch_size)\n",
        "                self.sess.run(self.train_op,feed_dict = self.get_dict(input_shuffle,target_shuffle))\n",
        "                print(\"Loss \",self.sess.run(self.loss,feed_dict = self.get_dict(input_shuffle,target_shuffle)))\n",
        "    \n",
        "    \n",
        "    def plot_result(self,mean,var):\n",
        "        encode_feature = tf.random_normal(shape = (1,self.encode_dim),mean = mean,stddev = var)\n",
        "        with tf.variable_scope('decoder',reuse=tf.AUTO_REUSE):\n",
        "            de_w1 = tf.get_variable('w1',shape = (self.encode_dim,256),initializer = tf.random_normal_initializer(mean = 0,stddev = 1))\n",
        "            de_b1 = tf.get_variable('b1',shape = (256,),initializer = tf.initializers.zeros())\n",
        "            de_out1 = tf.nn.relu(tf.matmul(encode_feature,de_w1) + de_b1)\n",
        "            \n",
        "            de_w2 = tf.get_variable('w2',shape = (256,256), initializer = tf.random_normal_initializer(mean = 0,stddev = 1))\n",
        "            de_b2 = tf.get_variable('b2',shape = (256,), initializer = tf.initializers.zeros())\n",
        "            \n",
        "            #de_out2 = tf.nn.relu(tf.matmul(de_out1,de_w2) + de_b2)\n",
        "            \n",
        "            de_w3 = tf.get_variable('w3',shape = (256,784),initializer = tf.random_normal_initializer(mean = 0,stddev = 1))\n",
        "            de_b3 = tf.get_variable('b3',shape = (784,),initializer = tf.initializers.zeros())\n",
        "            \n",
        "            result = tf.sigmoid(tf.matmul(de_out1,de_w3) + de_b3)\n",
        "        return result\n",
        "    \n",
        "    \n",
        "    def plot_show(self,input_data):\n",
        "        out = self.sess.run(self.output,feed_dict = self.get_dict(input_data))\n",
        "        mean = self.sess.run(self.en_mean,self.get_dict(input_data))\n",
        "        var = self.sess.run(self.en_var,self.get_dict(input_data))\n",
        "        encode = self.sess.run(self.en_out,feed_dict = self.get_dict(input_data))\n",
        "        for i in range(len(encode)):\n",
        "            print(encode[i])\n",
        "            print(mean[i])\n",
        "            print(var[i])\n",
        "            print('*'*10)\n",
        "        out += 1.0\n",
        "        out *=255.0\n",
        "        out = np.asarray(out).reshape(-1,28,28)\n",
        "        plt.figure()\n",
        "        for i in range(3):\n",
        "            for j in range(3):\n",
        "                plt.subplot(3,3,(i)*3+j+1)\n",
        "                plt.imshow(out[i*3+j])\n",
        "        plt.show()"
      ],
      "execution_count": null,
      "outputs": []
    },
    {
      "cell_type": "code",
      "metadata": {
        "id": "YMpfS2bhmBOa",
        "colab_type": "code",
        "colab": {
          "base_uri": "https://localhost:8080/",
          "height": 262
        },
        "outputId": "f7598bb7-d544-4e10-da04-9fe32cdd658d"
      },
      "source": [
        "vae = VAE(784,20)"
      ],
      "execution_count": null,
      "outputs": [
        {
          "output_type": "stream",
          "text": [
            "\n",
            "WARNING: The TensorFlow contrib module will not be included in TensorFlow 2.0.\n",
            "For more information, please see:\n",
            "  * https://github.com/tensorflow/community/blob/master/rfcs/20180907-contrib-sunset.md\n",
            "  * https://github.com/tensorflow/addons\n",
            "If you depend on functionality not listed there, please file an issue.\n",
            "\n",
            "WARNING:tensorflow:From /usr/local/lib/python3.6/dist-packages/tensorflow/python/framework/op_def_library.py:263: colocate_with (from tensorflow.python.framework.ops) is deprecated and will be removed in a future version.\n",
            "Instructions for updating:\n",
            "Colocations handled automatically by placer.\n",
            "WARNING:tensorflow:From /usr/local/lib/python3.6/dist-packages/tensorflow/python/ops/math_ops.py:3066: to_int32 (from tensorflow.python.ops.math_ops) is deprecated and will be removed in a future version.\n",
            "Instructions for updating:\n",
            "Use tf.cast instead.\n"
          ],
          "name": "stdout"
        }
      ]
    },
    {
      "cell_type": "code",
      "metadata": {
        "id": "0wjjSJuEy0iV",
        "colab_type": "code",
        "colab": {}
      },
      "source": [
        "vae.fit(x_train,x_train,batch_size = 2000,epoches = 200)"
      ],
      "execution_count": null,
      "outputs": []
    },
    {
      "cell_type": "code",
      "metadata": {
        "id": "ZuZ2gbV_1b0F",
        "colab_type": "code",
        "colab": {
          "base_uri": "https://localhost:8080/",
          "height": 287
        },
        "outputId": "e2dae6eb-c5f6-4792-c864-0a647a2d9968"
      },
      "source": [
        "plt.imshow(x_train[5].reshape(28,28))"
      ],
      "execution_count": null,
      "outputs": [
        {
          "output_type": "execute_result",
          "data": {
            "text/plain": [
              "<matplotlib.image.AxesImage at 0x7f1a716e7be0>"
            ]
          },
          "metadata": {
            "tags": []
          },
          "execution_count": 16
        },
        {
          "output_type": "display_data",
          "data": {
            "image/png": "[encoded data removed]",
            "text/plain": [
              "<Figure size 432x288 with 1 Axes>"
            ]
          },
          "metadata": {
            "tags": []
          }
        }
      ]
    },
    {
      "cell_type": "code",
      "metadata": {
        "id": "oFLlTTr04i8u",
        "colab_type": "code",
        "colab": {}
      },
      "source": [
        "xvae.plot_show(x_train[:9])"
      ],
      "execution_count": null,
      "outputs": []
    },
    {
      "cell_type": "code",
      "metadata": {
        "id": "6BHvmB2EA4sb",
        "colab_type": "code",
        "colab": {}
      },
      "source": [
        "for i in range(9):\n",
        "    plt.imshow((x_train[i]))\n",
        "    plt.show()"
      ],
      "execution_count": null,
      "outputs": []
    },
    {
      "cell_type": "code",
      "metadata": {
        "id": "Geoy8KkgIilm",
        "colab_type": "code",
        "colab": {}
      },
      "source": [
        "from keras.layers import Dense,Activation,Dropout,BatchNormalization,Input,Lambda\n",
        "from keras.models import Sequential,Model\n",
        "from keras import backend as K\n",
        "from keras import losses as loss"
      ],
      "execution_count": null,
      "outputs": []
    },
    {
      "cell_type": "code",
      "metadata": {
        "id": "K15J_k2fG7tf",
        "colab_type": "code",
        "colab": {}
      },
      "source": [
        "feature_dim = 784\n",
        "latent_dim = 20\n",
        "hidden_dim = 256\n",
        "batch_size = 100\n",
        "epoches = 50\n",
        "def sample(args):\n",
        "    z_mean, z_log_var = args\n",
        "    batch = K.shape(z_mean)[0]\n",
        "    dim = K.int_shape(z_mean)[1]\n",
        "    epilson = K.random_normal(shape = (batch,dim),mean = 0,stddev = 1)\n",
        "    return z_mean + K.exp(z_log_var / 2.0) * epilson"
      ],
      "execution_count": null,
      "outputs": []
    },
    {
      "cell_type": "code",
      "metadata": {
        "id": "1sWgn2-LK7QR",
        "colab_type": "code",
        "colab": {}
      },
      "source": [
        "encoder_input = Input(shape = (feature_dim,))\n",
        "\n",
        "h1 = Dense(hidden_dim,activation = 'relu')(encoder_input)\n",
        "\n",
        "z_mean = Dense(latent_dim)(h1)\n",
        "z_log_var = Dense(latent_dim)(h1)\n",
        "\n",
        "z = Lambda(sample,output_shape = (latent_dim,))([z_mean,z_log_var])\n",
        "\n",
        "encoder = Model(encoder_input,[z_mean,z_log_var,z])"
      ],
      "execution_count": null,
      "outputs": []
    },
    {
      "cell_type": "code",
      "metadata": {
        "id": "u5vzodNWTfvV",
        "colab_type": "code",
        "colab": {
          "base_uri": "https://localhost:8080/",
          "height": 349
        },
        "outputId": "f68a6b53-e153-4ba3-e945-5a8fbdf5179d"
      },
      "source": [
        "encoder.summary()"
      ],
      "execution_count": null,
      "outputs": [
        {
          "output_type": "stream",
          "text": [
            "__________________________________________________________________________________________________\n",
            "Layer (type)                    Output Shape         Param #     Connected to                     \n",
            "==================================================================================================\n",
            "input_7 (InputLayer)            (None, 784)          0                                            \n",
            "__________________________________________________________________________________________________\n",
            "dense_16 (Dense)                (None, 256)          200960      input_7[0][0]                    \n",
            "__________________________________________________________________________________________________\n",
            "dense_17 (Dense)                (None, 20)           5140        dense_16[0][0]                   \n",
            "__________________________________________________________________________________________________\n",
            "dense_18 (Dense)                (None, 20)           5140        dense_16[0][0]                   \n",
            "__________________________________________________________________________________________________\n",
            "lambda_4 (Lambda)               (None, 20)           0           dense_17[0][0]                   \n",
            "                                                                 dense_18[0][0]                   \n",
            "==================================================================================================\n",
            "Total params: 211,240\n",
            "Trainable params: 211,240\n",
            "Non-trainable params: 0\n",
            "__________________________________________________________________________________________________\n"
          ],
          "name": "stdout"
        }
      ]
    },
    {
      "cell_type": "code",
      "metadata": {
        "id": "XnlOlwHBOmh-",
        "colab_type": "code",
        "colab": {
          "base_uri": "https://localhost:8080/",
          "height": 242
        },
        "outputId": "7e463fd3-f4ea-4818-814f-241a6145e1d9"
      },
      "source": [
        "decoder_input = Input(shape = (latent_dim,))\n",
        "de_h1 = Dense(hidden_dim,activation = 'relu')(decoder_input)\n",
        "out = Dense(feature_dim,activation = 'sigmoid')(de_h1)\n",
        "decoder = Model(decoder_input,out)\n",
        "decoder.summary()\n"
      ],
      "execution_count": null,
      "outputs": [
        {
          "output_type": "stream",
          "text": [
            "_________________________________________________________________\n",
            "Layer (type)                 Output Shape              Param #   \n",
            "=================================================================\n",
            "input_8 (InputLayer)         (None, 20)                0         \n",
            "_________________________________________________________________\n",
            "dense_19 (Dense)             (None, 256)               5376      \n",
            "_________________________________________________________________\n",
            "dense_20 (Dense)             (None, 784)               201488    \n",
            "=================================================================\n",
            "Total params: 206,864\n",
            "Trainable params: 206,864\n",
            "Non-trainable params: 0\n",
            "_________________________________________________________________\n"
          ],
          "name": "stdout"
        }
      ]
    },
    {
      "cell_type": "code",
      "metadata": {
        "id": "LMV2XeZBSqpa",
        "colab_type": "code",
        "colab": {
          "base_uri": "https://localhost:8080/",
          "height": 242
        },
        "outputId": "0fd2c7d9-f6f0-4859-e98e-277d695a9180"
      },
      "source": [
        "decoder_output = decoder(encoder(encoder_input)[2])\n",
        "vae = Model(encoder_input,decoder_output)\n",
        "vae.summary()"
      ],
      "execution_count": null,
      "outputs": [
        {
          "output_type": "stream",
          "text": [
            "_________________________________________________________________\n",
            "Layer (type)                 Output Shape              Param #   \n",
            "=================================================================\n",
            "input_7 (InputLayer)         (None, 784)               0         \n",
            "_________________________________________________________________\n",
            "model_8 (Model)              [(None, 20), (None, 20),  211240    \n",
            "_________________________________________________________________\n",
            "model_9 (Model)              (None, 784)               206864    \n",
            "=================================================================\n",
            "Total params: 418,104\n",
            "Trainable params: 418,104\n",
            "Non-trainable params: 0\n",
            "_________________________________________________________________\n"
          ],
          "name": "stdout"
        }
      ]
    },
    {
      "cell_type": "code",
      "metadata": {
        "id": "WS_g2Le-mG0q",
        "colab_type": "code",
        "colab": {}
      },
      "source": [
        "def vae_loss(y_true, y_pred):\n",
        "    xent_loss = feature_dim * loss.binary_crossentropy(K.flatten(y_true), K.flatten(y_pred))\n",
        "    kl_loss = - 0.5 * K.sum(1 + z_log_var - K.square(z_mean) - K.exp(z_log_var), axis=-1)\n",
        "    loss_ = K.mean(xent_loss + kl_loss)\n",
        "    return loss_"
      ],
      "execution_count": null,
      "outputs": []
    },
    {
      "cell_type": "code",
      "metadata": {
        "id": "FaONQNejhxKO",
        "colab_type": "code",
        "colab": {}
      },
      "source": [
        "#vae.add_loss(kl_loss)\n",
        "vae.compile(loss = vae_loss,optimizer = 'adam')"
      ],
      "execution_count": null,
      "outputs": []
    },
    {
      "cell_type": "code",
      "metadata": {
        "id": "_m0lc4eMdgde",
        "colab_type": "code",
        "colab": {
          "base_uri": "https://localhost:8080/",
          "height": 86
        },
        "outputId": "54c873cd-e05b-417a-e531-b4c20d07aa75"
      },
      "source": [
        "print(x_train[0][300:320])"
      ],
      "execution_count": null,
      "outputs": [
        {
          "output_type": "stream",
          "text": [
            "[0.         0.         0.         0.         0.         0.\n",
            " 0.         0.         0.         0.         0.         0.\n",
            " 0.         0.         0.         0.         0.         0.\n",
            " 0.         0.54509807]\n"
          ],
          "name": "stdout"
        }
      ]
    },
    {
      "cell_type": "code",
      "metadata": {
        "id": "oXDPiXxgZYNm",
        "colab_type": "code",
        "colab": {
          "base_uri": "https://localhost:8080/",
          "height": 34
        },
        "outputId": "0ec4c21c-083a-496e-f720-67a6e771a55b"
      },
      "source": [
        "print(x_train.shape)"
      ],
      "execution_count": null,
      "outputs": [
        {
          "output_type": "stream",
          "text": [
            "(60000, 784)\n"
          ],
          "name": "stdout"
        }
      ]
    },
    {
      "cell_type": "code",
      "metadata": {
        "id": "toOwyoPZQUiS",
        "colab_type": "code",
        "colab": {
          "base_uri": "https://localhost:8080/",
          "height": 208
        },
        "outputId": "218cd80d-9b3b-4ded-aa96-da1087fa7fa8"
      },
      "source": [
        "vae.fit(x_train,x_train,epochs = 5,batch_size = 100)"
      ],
      "execution_count": null,
      "outputs": [
        {
          "output_type": "stream",
          "text": [
            "Epoch 1/5\n",
            "60000/60000 [==============================] - 6s 100us/step - loss: 164.8157\n",
            "Epoch 2/5\n",
            "60000/60000 [==============================] - 6s 94us/step - loss: 124.2365\n",
            "Epoch 3/5\n",
            "60000/60000 [==============================] - 6s 92us/step - loss: 116.9278\n",
            "Epoch 4/5\n",
            "60000/60000 [==============================] - 6s 92us/step - loss: 113.5618\n",
            "Epoch 5/5\n",
            "60000/60000 [==============================] - 6s 93us/step - loss: 111.5664\n"
          ],
          "name": "stdout"
        },
        {
          "output_type": "execute_result",
          "data": {
            "text/plain": [
              "<keras.callbacks.History at 0x7feb06b879e8>"
            ]
          },
          "metadata": {
            "tags": []
          },
          "execution_count": 73
        }
      ]
    },
    {
      "cell_type": "code",
      "metadata": {
        "id": "SCTcR86XQDcK",
        "colab_type": "code",
        "colab": {}
      },
      "source": [
        "sample = np.random.normal(0,3,(9,20))"
      ],
      "execution_count": null,
      "outputs": []
    },
    {
      "cell_type": "code",
      "metadata": {
        "id": "H5ok_sNjQXDd",
        "colab_type": "code",
        "colab": {}
      },
      "source": [
        "out = decoder.predict(sample)\n",
        "out = out.reshape(-1,28,28)"
      ],
      "execution_count": null,
      "outputs": []
    },
    {
      "cell_type": "code",
      "metadata": {
        "id": "y5Keqj4zVDiV",
        "colab_type": "code",
        "colab": {
          "base_uri": "https://localhost:8080/",
          "height": 34
        },
        "outputId": "6ab1f097-fd5c-447d-c646-46479be4a0ae"
      },
      "source": [
        "print(np.asarray([x_train[0]]).shape)"
      ],
      "execution_count": null,
      "outputs": [
        {
          "output_type": "stream",
          "text": [
            "(1, 784)\n"
          ],
          "name": "stdout"
        }
      ]
    },
    {
      "cell_type": "code",
      "metadata": {
        "id": "JVsl8KyIUvEZ",
        "colab_type": "code",
        "colab": {
          "base_uri": "https://localhost:8080/",
          "height": 51
        },
        "outputId": "1bf5ec9f-ca3b-453e-9fce-adb39e976b01"
      },
      "source": [
        "print(np.mean(encoder.predict([[x_train[0]]])))\n",
        "print(np.mean(encoder.predict([[x_train[1]]])))"
      ],
      "execution_count": null,
      "outputs": [
        {
          "output_type": "stream",
          "text": [
            "-1.0884745\n",
            "-0.5461601\n"
          ],
          "name": "stdout"
        }
      ]
    },
    {
      "cell_type": "code",
      "metadata": {
        "id": "FApWGbw2Qaq1",
        "colab_type": "code",
        "colab": {
          "base_uri": "https://localhost:8080/",
          "height": 364
        },
        "outputId": "b7b4ada3-39f5-402b-fa2f-5ca9fab3b5c4"
      },
      "source": [
        "plt.imshow(out[1])"
      ],
      "execution_count": null,
      "outputs": [
        {
          "output_type": "execute_result",
          "data": {
            "text/plain": [
              "<matplotlib.image.AxesImage at 0x7feb07daaf28>"
            ]
          },
          "metadata": {
            "tags": []
          },
          "execution_count": 43
        },
        {
          "output_type": "display_data",
          "data": {
            "image/png": "[encoded data removed]",
            "text/plain": [
              "<matplotlib.figure.Figure at 0x7feb06ccda58>"
            ]
          },
          "metadata": {
            "tags": []
          }
        }
      ]
    },
    {
      "cell_type": "code",
      "metadata": {
        "id": "v5kiN_nEaS79",
        "colab_type": "code",
        "colab": {}
      },
      "source": [
        "p = out[1]\n",
        "p = p.reshape(28,28)"
      ],
      "execution_count": null,
      "outputs": []
    },
    {
      "cell_type": "code",
      "metadata": {
        "id": "gYs-ahA7sFHN",
        "colab_type": "code",
        "colab": {
          "base_uri": "https://localhost:8080/",
          "height": 365
        },
        "outputId": "e31defc9-91b8-4153-96ba-367e2a5da701"
      },
      "source": [
        "plt.imshow(p)"
      ],
      "execution_count": null,
      "outputs": [
        {
          "output_type": "execute_result",
          "data": {
            "text/plain": [
              "<matplotlib.image.AxesImage at 0x7f4d97f01978>"
            ]
          },
          "metadata": {
            "tags": []
          },
          "execution_count": 88
        },
        {
          "output_type": "display_data",
          "data": {
            "image/png": "[encoded data removed]",
            "text/plain": [
              "<matplotlib.figure.Figure at 0x7f4d99fc78d0>"
            ]
          },
          "metadata": {
            "tags": []
          }
        }
      ]
    },
    {
      "cell_type": "code",
      "metadata": {
        "id": "LHodH3_bbTJE",
        "colab_type": "code",
        "colab": {}
      },
      "source": [
        "batch_size = 100\n",
        "original_dim = 784\n",
        "latent_dim = 2\n",
        "intermediate_dim = 256\n",
        "nb_epoch = 50\n",
        "epsilon_std = 1.0\n",
        "\n",
        "x = Input(batch_shape=(batch_size, original_dim))#1\n",
        "h = Dense(intermediate_dim, activation='relu')(x)#2\n",
        "z_mean = Dense(latent_dim)(h)\n",
        "z_log_var = Dense(latent_dim)(h)"
      ],
      "execution_count": null,
      "outputs": []
    },
    {
      "cell_type": "code",
      "metadata": {
        "id": "swcsK2yucT3p",
        "colab_type": "code",
        "colab": {}
      },
      "source": [
        "def sampling(args):\n",
        "    z_mean, z_log_var = args\n",
        "    epsilon = K.random_normal(shape=(batch_size, latent_dim), mean=0.,\n",
        "                              stddev=epsilon_std)\n",
        "    return z_mean + K.exp(z_log_var / 2) * epsilon"
      ],
      "execution_count": null,
      "outputs": []
    },
    {
      "cell_type": "code",
      "metadata": {
        "id": "y0FY9YeIcV_J",
        "colab_type": "code",
        "colab": {}
      },
      "source": [
        "z = Lambda(sampling, output_shape=(latent_dim,))([z_mean, z_log_var])"
      ],
      "execution_count": null,
      "outputs": []
    },
    {
      "cell_type": "code",
      "metadata": {
        "id": "wUHO66VZcXbF",
        "colab_type": "code",
        "colab": {}
      },
      "source": [
        "decoder_h = Dense(intermediate_dim, activation='relu')\n",
        "decoder_mean = Dense(original_dim, activation='sigmoid')\n",
        "h_decoded = decoder_h(z)\n",
        "x_decoded_mean = decoder_mean(h_decoded)"
      ],
      "execution_count": null,
      "outputs": []
    },
    {
      "cell_type": "code",
      "metadata": {
        "id": "P9RV9XafccCr",
        "colab_type": "code",
        "colab": {}
      },
      "source": [
        "def vae_loss(x, x_decoded_mean):\n",
        "    xent_loss = original_dim * loss.binary_crossentropy(x, x_decoded_mean)\n",
        "    kl_loss = - 0.5 * K.sum(1 + z_log_var - K.square(z_mean) - K.exp(z_log_var), axis=-1)\n",
        "    return xent_loss + kl_loss"
      ],
      "execution_count": null,
      "outputs": []
    },
    {
      "cell_type": "code",
      "metadata": {
        "id": "EV41NAdRceKR",
        "colab_type": "code",
        "colab": {}
      },
      "source": [
        "vae = Model(x, x_decoded_mean)\n",
        "vae.compile(optimizer='rmsprop', loss=vae_loss)\n",
        "vae.summary()\n",
        "# train the VAE on MNIST digits\n",
        "(x_train, y_train), (x_test, y_test) = mnist.load_data()\n",
        "\n",
        "x_train = x_train.astype('float32') / 255.\n",
        "x_test = x_test.astype('float32') / 255.\n",
        "x_train = x_train.reshape((len(x_train), np.prod(x_train.shape[1:])))\n",
        "x_test = x_test.reshape((len(x_test), np.prod(x_test.shape[1:])))\n",
        "\n",
        "vae.fit(x_train, x_train,\n",
        "        shuffle=True,\n",
        "        nb_epoch=nb_epoch,\n",
        "        batch_size=batch_size,\n",
        "validation_data=(x_test, x_test))"
      ],
      "execution_count": null,
      "outputs": []
    },
    {
      "cell_type": "code",
      "metadata": {
        "id": "2CqfT_AJcgaU",
        "colab_type": "code",
        "colab": {}
      },
      "source": [
        ""
      ],
      "execution_count": null,
      "outputs": []
    }
  ]
}