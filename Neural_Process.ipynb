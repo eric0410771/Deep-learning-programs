{
  "nbformat": 4,
  "nbformat_minor": 0,
  "metadata": {
    "colab": {
      "name": "Neural_Process.ipynb",
      "provenance": [],
      "collapsed_sections": []
    },
    "kernelspec": {
      "name": "python3",
      "display_name": "Python 3"
    },
    "accelerator": "GPU"
  },
  "cells": [
    {
      "cell_type": "code",
      "metadata": {
        "id": "Q_edx1bxpPGB",
        "colab_type": "code",
        "colab": {}
      },
      "source": [
        "import numpy as np\n",
        "import torch\n",
        "import torch.nn as nn\n",
        "import torch.optim as optims\n",
        "import torch.nn.functional as F\n",
        "import torchvision\n",
        "import torchvision.datasets as datasets\n",
        "import torchvision.transforms as transforms\n",
        "import matplotlib.pyplot as plt"
      ],
      "execution_count": null,
      "outputs": []
    },
    {
      "cell_type": "code",
      "metadata": {
        "id": "7NVTTfjr3amK",
        "colab_type": "code",
        "colab": {}
      },
      "source": [
        "device = torch.device('cpu')\n",
        "if torch.cuda.is_available():\n",
        "    device = torch.device('cuda')"
      ],
      "execution_count": null,
      "outputs": []
    },
    {
      "cell_type": "markdown",
      "metadata": {
        "id": "f-JYvGc33tEv",
        "colab_type": "text"
      },
      "source": [
        "**Load Data**"
      ]
    },
    {
      "cell_type": "code",
      "metadata": {
        "id": "6BIR3JtF3xvY",
        "colab_type": "code",
        "colab": {
          "base_uri": "https://localhost:8080/",
          "height": 280
        },
        "outputId": "64ccdd31-92b7-4d6f-e117-df3bf0d68986"
      },
      "source": [
        "transform = transforms.Compose([transforms.ToTensor()])\n",
        "train_set = datasets.MNIST(root = './data', train = True, download = True, transform = transform)\n",
        "test_set = datasets.MNIST(root = './data', train = False, download = True, transform = transform)"
      ],
      "execution_count": null,
      "outputs": [
        {
          "output_type": "stream",
          "text": [
            "  0%|          | 16384/9912422 [00:00<01:14, 133613.86it/s]"
          ],
          "name": "stderr"
        },
        {
          "output_type": "stream",
          "text": [
            "Downloading http://yann.lecun.com/exdb/mnist/train-images-idx3-ubyte.gz to ./data/MNIST/raw/train-images-idx3-ubyte.gz\n"
          ],
          "name": "stdout"
        },
        {
          "output_type": "stream",
          "text": [
            "9920512it [00:00, 31449170.84it/s]                           \n"
          ],
          "name": "stderr"
        },
        {
          "output_type": "stream",
          "text": [
            "Extracting ./data/MNIST/raw/train-images-idx3-ubyte.gz\n"
          ],
          "name": "stdout"
        },
        {
          "output_type": "stream",
          "text": [
            "32768it [00:00, 436781.42it/s]\n",
            "  1%|          | 16384/1648877 [00:00<00:11, 142778.88it/s]"
          ],
          "name": "stderr"
        },
        {
          "output_type": "stream",
          "text": [
            "Downloading http://yann.lecun.com/exdb/mnist/train-labels-idx1-ubyte.gz to ./data/MNIST/raw/train-labels-idx1-ubyte.gz\n",
            "Extracting ./data/MNIST/raw/train-labels-idx1-ubyte.gz\n",
            "Downloading http://yann.lecun.com/exdb/mnist/t10k-images-idx3-ubyte.gz to ./data/MNIST/raw/t10k-images-idx3-ubyte.gz\n"
          ],
          "name": "stdout"
        },
        {
          "output_type": "stream",
          "text": [
            "1654784it [00:00, 7083151.83it/s]                            \n",
            "8192it [00:00, 179842.13it/s]\n"
          ],
          "name": "stderr"
        },
        {
          "output_type": "stream",
          "text": [
            "Extracting ./data/MNIST/raw/t10k-images-idx3-ubyte.gz\n",
            "Downloading http://yann.lecun.com/exdb/mnist/t10k-labels-idx1-ubyte.gz to ./data/MNIST/raw/t10k-labels-idx1-ubyte.gz\n",
            "Extracting ./data/MNIST/raw/t10k-labels-idx1-ubyte.gz\n",
            "Processing...\n",
            "Done!\n"
          ],
          "name": "stdout"
        }
      ]
    },
    {
      "cell_type": "markdown",
      "metadata": {
        "id": "DFFF8EdLGsS3",
        "colab_type": "text"
      },
      "source": [
        "此實驗室使用mnist的數字做為資料，可以知道要預測的是圖片，那訓練時，輸入的資料X是指該image的部分的pixel的位置，和這位置上有的target值，那Yt也就是整張圖要如何產生呢?這裡它需要先Sample出Z，而我們需要給予Xt，那這裡因為是要輸出整張圖片，所以我們需要輸入整張圖的Xt，你也可以想成是x1~x784，而我們對應產生的就是y1~y784。<br>\n",
        "那這對應到paper中提到，在target set中，我們會包含一些context set，而這是因為在訓練或是取得z是透過這些已知的context set也就是要predict的部分的pixel的information。<br>\n",
        "\n",
        "#補充\n",
        "在看paper時還沒想通為什麼gaussian process可以看成是一個stochastic process能map所謂的X1~Xn => Y1~ Yn，這到底是啥意思，以前學GP時它不是只吃一個數值輸出另一個數值嗎。那這裡Sequence想表示的是一筆資料其中它有n個部分，有點類似語言的資料，一個句子有很多個字，而這裡一張圖片有很多的pixel，而如果將pixel以Sequence表示，那清楚地，這pixel的就是我們想學的，那這裡的function mapping 是given pixel的location去predict pixel的值，所以可以知道X1~n指的是一串選取的index有n個的pixel的位置，而其中我們將它與它的target，Y1~n也就是這n個pixel的顏色值，作為是context set，而想當然在做output時，X應該要包含所有的pixel的位置，這樣輸出的Y才會是所有pixel的顏色值，而這也說明paper中的一些部分。"
      ]
    },
    {
      "cell_type": "code",
      "metadata": {
        "id": "g3bJFkgd8wyl",
        "colab_type": "code",
        "colab": {}
      },
      "source": [
        "def get_element_index(num_index):\n",
        "    batch_index = np.random.choice(784,num_index)\n",
        "    batch_index = torch.tensor(batch_index).to(device)\n",
        "    return batch_index\n",
        "def get_context_set(h,w):\n",
        "    rows = torch.linspace(0,1,h,device = device)\n",
        "    cols = torch.linspace(0,1,w,device = device)\n",
        "    grid = torch.stack([cols.repeat(h,1).t().contiguous().view(-1),rows.repeat(w)],dim = 1)\n",
        "    grid = grid.unsqueeze(0).to(device)\n",
        "    return grid\n",
        "def index_to_target(index, target_sequence):\n",
        "    return torch.index_select(target_sequence,dim = 1,index = index)\n",
        "def index_to_context(index,full_context_set,batch_size):\n",
        "    select_context = torch.index_select(full_context_set, dim = 1, index = index)\n",
        "    return select_context.repeat(batch_size, 1, 1)\n"
      ],
      "execution_count": null,
      "outputs": []
    },
    {
      "cell_type": "code",
      "metadata": {
        "id": "jSWvU5oRvSQz",
        "colab_type": "code",
        "colab": {}
      },
      "source": [
        "class NP(nn.Module):\n",
        "    def __init__(self,context_dim, target_dim, h_dim, r_dim, z_dim):\n",
        "        super().__init__()\n",
        "        self.h1 = nn.Linear(context_dim + target_dim,h_dim)\n",
        "        self.h2 = nn.Linear(h_dim,h_dim)\n",
        "        self.h3 = nn.Linear(h_dim,r_dim)\n",
        "        self.relu = nn.ReLU()\n",
        "        \n",
        "        self.s1 = nn.Linear(context_dim + target_dim,h_dim)\n",
        "        self.s2 = nn.Linear(h_dim, h_dim)\n",
        "        self.s3 = nn.Linear(h_dim,r_dim)\n",
        "        \n",
        "        self.z_mean = nn.Linear(r_dim, z_dim)\n",
        "        self.z_std = nn.Linear(r_dim, z_dim)\n",
        "        \n",
        "        self.g1 = nn.Linear(z_dim + 2, h_dim)\n",
        "        self.g2 = nn.Linear(h_dim, h_dim)\n",
        "        self.g3 = nn.Linear(h_dim,target_dim)\n",
        "        self.sigmoid = nn.Sigmoid()\n",
        "        \n",
        "        \n",
        "        self.full_context_set = get_context_set(28,28)\n",
        "    def aggregator(self, r_input):\n",
        "        return torch.mean(r_input,dim = 1)\n",
        "      \n",
        "    def hidden_layer(self,c_t_input):\n",
        "        h = self.h1(c_t_input)\n",
        "        h = self.relu(h)\n",
        "        h = self.h2(h)\n",
        "        h = self.relu(h)\n",
        "        r = self.h3(h)\n",
        "        \n",
        "        return r\n",
        "    def reparameter_trick(self,r_input):\n",
        "        z_mean = self.z_mean(r_input)\n",
        "        z_std = self.z_std(r_input)\n",
        "        epsilon = torch.randn(z_mean.size()).to(device)\n",
        "        z_sample = z_mean + epsilon * z_std\n",
        "        z_sample = z_sample.unsqueeze(1).expand(-1,784,-1)\n",
        "        kl_loss = KL_Loss(z_mean,z_std)\n",
        "        return z_sample, kl_loss\n",
        "      \n",
        "    def decode_layer(self,z_c_input):\n",
        "        g = self.g1(z_c_input)\n",
        "        g = self.relu(g)\n",
        "        g = self.g2(g)\n",
        "        g = self.relu(g)\n",
        "        g = self.g3(g)\n",
        "        t = self.sigmoid(g)\n",
        "        return t\n",
        "      \n",
        "    def forward(self,c_input, t_input):\n",
        "        c_t_input = torch.cat((c_input,t_input),dim = 2)\n",
        "        r = self.hidden_layer(c_t_input)\n",
        "        r_aggre = self.aggregator(r)\n",
        "        z_sample,kl_loss = self.reparameter_trick(r_aggre)\n",
        "        full_c_input = self.full_context_set.expand(c_input.size()[0],-1,-1).to(device)\n",
        "        z_c_input = torch.cat((z_sample,full_c_input),dim = 2)\n",
        "        \n",
        "        t = self.decode_layer(z_c_input)\n",
        "            \n",
        "        return t, kl_loss\n",
        "\n",
        "      \n",
        "def Reconstruction_Loss(predict_t, true_t):\n",
        "    return F.binary_cross_entropy(predict_t, true_t, reduction=\"sum\")\n",
        "def KL_Loss(z_mean,z_std):\n",
        "    return torch.sum( -0.5*(1 + z_std - z_mean * z_mean - torch.exp(z_std)))\n",
        "    "
      ],
      "execution_count": null,
      "outputs": []
    },
    {
      "cell_type": "code",
      "metadata": {
        "id": "9mpLh8rImpKh",
        "colab_type": "code",
        "colab": {}
      },
      "source": [
        "config = {\n",
        "    'context_dim':2,\n",
        "    'target_dim':1,\n",
        "    'h_dim':128,\n",
        "    'r_dim':128,\n",
        "    'z_dim':128\n",
        "}"
      ],
      "execution_count": null,
      "outputs": []
    },
    {
      "cell_type": "code",
      "metadata": {
        "id": "FDHovbgLnDuK",
        "colab_type": "code",
        "colab": {}
      },
      "source": [
        "neuralp = NP(**config)\n",
        "neuralp = neuralp.to(device)\n",
        "adam = optims.Adam(neuralp.parameters())"
      ],
      "execution_count": null,
      "outputs": []
    },
    {
      "cell_type": "code",
      "metadata": {
        "id": "XWpmkzTXnWSA",
        "colab_type": "code",
        "colab": {
          "base_uri": "https://localhost:8080/",
          "height": 2555
        },
        "outputId": "890c4189-d3c9-4b2f-b558-3efbd85d2d6a"
      },
      "source": [
        "Epoch = 100\n",
        "batch_size = 100\n",
        "\n",
        "train_loader = torch.utils.data.DataLoader(dataset = train_set, shuffle = True, batch_size = batch_size)\n",
        "for epoch in range(Epoch):\n",
        "    for i,data in enumerate(train_loader):\n",
        "        target_sequence,_ = data\n",
        "        target_sequence = target_sequence.to(device)\n",
        "        target_sequence = target_sequence.view(batch_size,-1,1)\n",
        "        \n",
        "        context_sequence = get_context_set(28,28)\n",
        "        num_element_index = np.random.randint(10,680)\n",
        "        element_index = get_element_index(num_element_index)\n",
        "        select_target_sequence = index_to_target(element_index, target_sequence)\n",
        "        select_context_sequence = index_to_context(element_index, context_sequence, batch_size)\n",
        "        predict_target_sequence, kl_loss = neuralp(select_context_sequence,select_target_sequence)\n",
        "        adam.zero_grad()        \n",
        "        loss = Reconstruction_Loss(predict_target_sequence,target_sequence) + kl_loss\n",
        "        loss.backward()\n",
        "        adam.step()\n",
        "        if i %1000 ==0:\n",
        "            print(Reconstruction_Loss(predict_target_sequence,target_sequence))\n",
        "            print(loss)"
      ],
      "execution_count": null,
      "outputs": [
        {
          "output_type": "stream",
          "text": [
            "tensor(14416.4834, device='cuda:0', grad_fn=<BinaryCrossEntropyBackward>)\n",
            "tensor(14434.6611, device='cuda:0', grad_fn=<AddBackward0>)\n",
            "tensor(11603.9785, device='cuda:0', grad_fn=<BinaryCrossEntropyBackward>)\n",
            "tensor(11616.8896, device='cuda:0', grad_fn=<AddBackward0>)\n",
            "tensor(12702.5742, device='cuda:0', grad_fn=<BinaryCrossEntropyBackward>)\n",
            "tensor(12718.4141, device='cuda:0', grad_fn=<AddBackward0>)\n",
            "tensor(12640.4102, device='cuda:0', grad_fn=<BinaryCrossEntropyBackward>)\n",
            "tensor(12655.2959, device='cuda:0', grad_fn=<AddBackward0>)\n",
            "tensor(13624.9141, device='cuda:0', grad_fn=<BinaryCrossEntropyBackward>)\n",
            "tensor(13639.5996, device='cuda:0', grad_fn=<AddBackward0>)\n",
            "tensor(12553.5869, device='cuda:0', grad_fn=<BinaryCrossEntropyBackward>)\n",
            "tensor(12568.9521, device='cuda:0', grad_fn=<AddBackward0>)\n",
            "tensor(14309.9951, device='cuda:0', grad_fn=<BinaryCrossEntropyBackward>)\n",
            "tensor(14326.1514, device='cuda:0', grad_fn=<AddBackward0>)\n",
            "tensor(12661.6738, device='cuda:0', grad_fn=<BinaryCrossEntropyBackward>)\n",
            "tensor(12678.2578, device='cuda:0', grad_fn=<AddBackward0>)\n",
            "tensor(12615.9863, device='cuda:0', grad_fn=<BinaryCrossEntropyBackward>)\n",
            "tensor(12630.5957, device='cuda:0', grad_fn=<AddBackward0>)\n",
            "tensor(11861.8516, device='cuda:0', grad_fn=<BinaryCrossEntropyBackward>)\n",
            "tensor(11877.3184, device='cuda:0', grad_fn=<AddBackward0>)\n",
            "tensor(13190.2764, device='cuda:0', grad_fn=<BinaryCrossEntropyBackward>)\n",
            "tensor(13206.4238, device='cuda:0', grad_fn=<AddBackward0>)\n",
            "tensor(13274.8887, device='cuda:0', grad_fn=<BinaryCrossEntropyBackward>)\n",
            "tensor(13292.4277, device='cuda:0', grad_fn=<AddBackward0>)\n",
            "tensor(13337.3301, device='cuda:0', grad_fn=<BinaryCrossEntropyBackward>)\n",
            "tensor(13353.4717, device='cuda:0', grad_fn=<AddBackward0>)\n",
            "tensor(11435.7930, device='cuda:0', grad_fn=<BinaryCrossEntropyBackward>)\n",
            "tensor(11451.6113, device='cuda:0', grad_fn=<AddBackward0>)\n",
            "tensor(11992.1465, device='cuda:0', grad_fn=<BinaryCrossEntropyBackward>)\n",
            "tensor(12007.7441, device='cuda:0', grad_fn=<AddBackward0>)\n",
            "tensor(12058.0664, device='cuda:0', grad_fn=<BinaryCrossEntropyBackward>)\n",
            "tensor(12072.8867, device='cuda:0', grad_fn=<AddBackward0>)\n",
            "tensor(12546.7852, device='cuda:0', grad_fn=<BinaryCrossEntropyBackward>)\n",
            "tensor(12562.9434, device='cuda:0', grad_fn=<AddBackward0>)\n",
            "tensor(11864.1152, device='cuda:0', grad_fn=<BinaryCrossEntropyBackward>)\n",
            "tensor(11879.3115, device='cuda:0', grad_fn=<AddBackward0>)\n",
            "tensor(18956.4570, device='cuda:0', grad_fn=<BinaryCrossEntropyBackward>)\n",
            "tensor(18980.7031, device='cuda:0', grad_fn=<AddBackward0>)\n",
            "tensor(14409.9160, device='cuda:0', grad_fn=<BinaryCrossEntropyBackward>)\n",
            "tensor(14432.8818, device='cuda:0', grad_fn=<AddBackward0>)\n",
            "tensor(13983.5352, device='cuda:0', grad_fn=<BinaryCrossEntropyBackward>)\n",
            "tensor(13999.6143, device='cuda:0', grad_fn=<AddBackward0>)\n",
            "tensor(12244.2676, device='cuda:0', grad_fn=<BinaryCrossEntropyBackward>)\n",
            "tensor(12260.4648, device='cuda:0', grad_fn=<AddBackward0>)\n",
            "tensor(11643.4795, device='cuda:0', grad_fn=<BinaryCrossEntropyBackward>)\n",
            "tensor(11660.3779, device='cuda:0', grad_fn=<AddBackward0>)\n",
            "tensor(10947.1270, device='cuda:0', grad_fn=<BinaryCrossEntropyBackward>)\n",
            "tensor(10961.2979, device='cuda:0', grad_fn=<AddBackward0>)\n",
            "tensor(21717.3906, device='cuda:0', grad_fn=<BinaryCrossEntropyBackward>)\n",
            "tensor(21768.0840, device='cuda:0', grad_fn=<AddBackward0>)\n",
            "tensor(10479.0801, device='cuda:0', grad_fn=<BinaryCrossEntropyBackward>)\n",
            "tensor(10494.5420, device='cuda:0', grad_fn=<AddBackward0>)\n",
            "tensor(11099.7900, device='cuda:0', grad_fn=<BinaryCrossEntropyBackward>)\n",
            "tensor(11114.5244, device='cuda:0', grad_fn=<AddBackward0>)\n",
            "tensor(11809.0547, device='cuda:0', grad_fn=<BinaryCrossEntropyBackward>)\n",
            "tensor(11825.0811, device='cuda:0', grad_fn=<AddBackward0>)\n",
            "tensor(11421.4004, device='cuda:0', grad_fn=<BinaryCrossEntropyBackward>)\n",
            "tensor(11436.2764, device='cuda:0', grad_fn=<AddBackward0>)\n",
            "tensor(10792.6602, device='cuda:0', grad_fn=<BinaryCrossEntropyBackward>)\n",
            "tensor(10807.0410, device='cuda:0', grad_fn=<AddBackward0>)\n",
            "tensor(12629.6455, device='cuda:0', grad_fn=<BinaryCrossEntropyBackward>)\n",
            "tensor(12646.0723, device='cuda:0', grad_fn=<AddBackward0>)\n",
            "tensor(10911.7012, device='cuda:0', grad_fn=<BinaryCrossEntropyBackward>)\n",
            "tensor(10924.8330, device='cuda:0', grad_fn=<AddBackward0>)\n",
            "tensor(11369.7578, device='cuda:0', grad_fn=<BinaryCrossEntropyBackward>)\n",
            "tensor(11384.6309, device='cuda:0', grad_fn=<AddBackward0>)\n",
            "tensor(12716.9785, device='cuda:0', grad_fn=<BinaryCrossEntropyBackward>)\n",
            "tensor(12742.3477, device='cuda:0', grad_fn=<AddBackward0>)\n",
            "tensor(12587.4971, device='cuda:0', grad_fn=<BinaryCrossEntropyBackward>)\n",
            "tensor(12607.1074, device='cuda:0', grad_fn=<AddBackward0>)\n",
            "tensor(15351.9873, device='cuda:0', grad_fn=<BinaryCrossEntropyBackward>)\n",
            "tensor(15381.3320, device='cuda:0', grad_fn=<AddBackward0>)\n",
            "tensor(11847.4824, device='cuda:0', grad_fn=<BinaryCrossEntropyBackward>)\n",
            "tensor(11862.7734, device='cuda:0', grad_fn=<AddBackward0>)\n",
            "tensor(11698.0703, device='cuda:0', grad_fn=<BinaryCrossEntropyBackward>)\n",
            "tensor(11713.9531, device='cuda:0', grad_fn=<AddBackward0>)\n",
            "tensor(10684.3750, device='cuda:0', grad_fn=<BinaryCrossEntropyBackward>)\n",
            "tensor(10699.5654, device='cuda:0', grad_fn=<AddBackward0>)\n",
            "tensor(10978.8086, device='cuda:0', grad_fn=<BinaryCrossEntropyBackward>)\n",
            "tensor(10994.6484, device='cuda:0', grad_fn=<AddBackward0>)\n",
            "tensor(12311.4033, device='cuda:0', grad_fn=<BinaryCrossEntropyBackward>)\n",
            "tensor(12331.0635, device='cuda:0', grad_fn=<AddBackward0>)\n",
            "tensor(11056.8672, device='cuda:0', grad_fn=<BinaryCrossEntropyBackward>)\n",
            "tensor(11071.2432, device='cuda:0', grad_fn=<AddBackward0>)\n",
            "tensor(10659.2373, device='cuda:0', grad_fn=<BinaryCrossEntropyBackward>)\n",
            "tensor(10674.5518, device='cuda:0', grad_fn=<AddBackward0>)\n",
            "tensor(11211.9453, device='cuda:0', grad_fn=<BinaryCrossEntropyBackward>)\n",
            "tensor(11227.6309, device='cuda:0', grad_fn=<AddBackward0>)\n",
            "tensor(10217.6582, device='cuda:0', grad_fn=<BinaryCrossEntropyBackward>)\n",
            "tensor(10233.8945, device='cuda:0', grad_fn=<AddBackward0>)\n",
            "tensor(11105.7256, device='cuda:0', grad_fn=<BinaryCrossEntropyBackward>)\n",
            "tensor(11120.8438, device='cuda:0', grad_fn=<AddBackward0>)\n",
            "tensor(10923.4990, device='cuda:0', grad_fn=<BinaryCrossEntropyBackward>)\n",
            "tensor(10938.5791, device='cuda:0', grad_fn=<AddBackward0>)\n",
            "tensor(12631.6758, device='cuda:0', grad_fn=<BinaryCrossEntropyBackward>)\n",
            "tensor(12650.0723, device='cuda:0', grad_fn=<AddBackward0>)\n",
            "tensor(11207.5908, device='cuda:0', grad_fn=<BinaryCrossEntropyBackward>)\n",
            "tensor(11225.8926, device='cuda:0', grad_fn=<AddBackward0>)\n",
            "tensor(11826.6758, device='cuda:0', grad_fn=<BinaryCrossEntropyBackward>)\n",
            "tensor(11844.3848, device='cuda:0', grad_fn=<AddBackward0>)\n",
            "tensor(10452.4697, device='cuda:0', grad_fn=<BinaryCrossEntropyBackward>)\n",
            "tensor(10467.0342, device='cuda:0', grad_fn=<AddBackward0>)\n",
            "tensor(11111.5664, device='cuda:0', grad_fn=<BinaryCrossEntropyBackward>)\n",
            "tensor(11126.7178, device='cuda:0', grad_fn=<AddBackward0>)\n",
            "tensor(19017.4570, device='cuda:0', grad_fn=<BinaryCrossEntropyBackward>)\n",
            "tensor(19041.1387, device='cuda:0', grad_fn=<AddBackward0>)\n",
            "tensor(11733.0176, device='cuda:0', grad_fn=<BinaryCrossEntropyBackward>)\n",
            "tensor(11749.8633, device='cuda:0', grad_fn=<AddBackward0>)\n",
            "tensor(11351.3271, device='cuda:0', grad_fn=<BinaryCrossEntropyBackward>)\n",
            "tensor(11366.5928, device='cuda:0', grad_fn=<AddBackward0>)\n",
            "tensor(13790.8105, device='cuda:0', grad_fn=<BinaryCrossEntropyBackward>)\n",
            "tensor(13810.3076, device='cuda:0', grad_fn=<AddBackward0>)\n",
            "tensor(14550.3906, device='cuda:0', grad_fn=<BinaryCrossEntropyBackward>)\n",
            "tensor(14575.4922, device='cuda:0', grad_fn=<AddBackward0>)\n",
            "tensor(12413.9795, device='cuda:0', grad_fn=<BinaryCrossEntropyBackward>)\n",
            "tensor(12431.5557, device='cuda:0', grad_fn=<AddBackward0>)\n",
            "tensor(10754.8301, device='cuda:0', grad_fn=<BinaryCrossEntropyBackward>)\n",
            "tensor(10770.4561, device='cuda:0', grad_fn=<AddBackward0>)\n",
            "tensor(11222.3877, device='cuda:0', grad_fn=<BinaryCrossEntropyBackward>)\n",
            "tensor(11239.3750, device='cuda:0', grad_fn=<AddBackward0>)\n",
            "tensor(10846.2031, device='cuda:0', grad_fn=<BinaryCrossEntropyBackward>)\n",
            "tensor(10863.1699, device='cuda:0', grad_fn=<AddBackward0>)\n",
            "tensor(13670.2695, device='cuda:0', grad_fn=<BinaryCrossEntropyBackward>)\n",
            "tensor(13691.9365, device='cuda:0', grad_fn=<AddBackward0>)\n"
          ],
          "name": "stdout"
        },
        {
          "output_type": "error",
          "ename": "KeyboardInterrupt",
          "evalue": "ignored",
          "traceback": [
            "\u001b[0;31m---------------------------------------------------------------------------\u001b[0m",
            "\u001b[0;31mKeyboardInterrupt\u001b[0m                         Traceback (most recent call last)",
            "\u001b[0;32m<ipython-input-19-88ebb2e26320>\u001b[0m in \u001b[0;36m<module>\u001b[0;34m()\u001b[0m\n\u001b[1;32m     17\u001b[0m         \u001b[0madam\u001b[0m\u001b[0;34m.\u001b[0m\u001b[0mzero_grad\u001b[0m\u001b[0;34m(\u001b[0m\u001b[0;34m)\u001b[0m\u001b[0;34m\u001b[0m\u001b[0;34m\u001b[0m\u001b[0m\n\u001b[1;32m     18\u001b[0m         \u001b[0mloss\u001b[0m \u001b[0;34m=\u001b[0m \u001b[0mReconstruction_Loss\u001b[0m\u001b[0;34m(\u001b[0m\u001b[0mpredict_target_sequence\u001b[0m\u001b[0;34m,\u001b[0m\u001b[0mtarget_sequence\u001b[0m\u001b[0;34m)\u001b[0m \u001b[0;34m+\u001b[0m \u001b[0mkl_loss\u001b[0m\u001b[0;34m\u001b[0m\u001b[0;34m\u001b[0m\u001b[0m\n\u001b[0;32m---> 19\u001b[0;31m         \u001b[0mloss\u001b[0m\u001b[0;34m.\u001b[0m\u001b[0mbackward\u001b[0m\u001b[0;34m(\u001b[0m\u001b[0;34m)\u001b[0m\u001b[0;34m\u001b[0m\u001b[0;34m\u001b[0m\u001b[0m\n\u001b[0m\u001b[1;32m     20\u001b[0m         \u001b[0madam\u001b[0m\u001b[0;34m.\u001b[0m\u001b[0mstep\u001b[0m\u001b[0;34m(\u001b[0m\u001b[0;34m)\u001b[0m\u001b[0;34m\u001b[0m\u001b[0;34m\u001b[0m\u001b[0m\n\u001b[1;32m     21\u001b[0m         \u001b[0;32mif\u001b[0m \u001b[0mi\u001b[0m \u001b[0;34m%\u001b[0m\u001b[0;36m1000\u001b[0m \u001b[0;34m==\u001b[0m\u001b[0;36m0\u001b[0m\u001b[0;34m:\u001b[0m\u001b[0;34m\u001b[0m\u001b[0;34m\u001b[0m\u001b[0m\n",
            "\u001b[0;32m/usr/local/lib/python3.6/dist-packages/torch/tensor.py\u001b[0m in \u001b[0;36mbackward\u001b[0;34m(self, gradient, retain_graph, create_graph)\u001b[0m\n\u001b[1;32m    105\u001b[0m                 \u001b[0mproducts\u001b[0m\u001b[0;34m.\u001b[0m \u001b[0mDefaults\u001b[0m \u001b[0mto\u001b[0m\u001b[0;31m \u001b[0m\u001b[0;31m`\u001b[0m\u001b[0;31m`\u001b[0m\u001b[0;32mFalse\u001b[0m\u001b[0;31m`\u001b[0m\u001b[0;31m`\u001b[0m\u001b[0;34m.\u001b[0m\u001b[0;34m\u001b[0m\u001b[0;34m\u001b[0m\u001b[0m\n\u001b[1;32m    106\u001b[0m         \"\"\"\n\u001b[0;32m--> 107\u001b[0;31m         \u001b[0mtorch\u001b[0m\u001b[0;34m.\u001b[0m\u001b[0mautograd\u001b[0m\u001b[0;34m.\u001b[0m\u001b[0mbackward\u001b[0m\u001b[0;34m(\u001b[0m\u001b[0mself\u001b[0m\u001b[0;34m,\u001b[0m \u001b[0mgradient\u001b[0m\u001b[0;34m,\u001b[0m \u001b[0mretain_graph\u001b[0m\u001b[0;34m,\u001b[0m \u001b[0mcreate_graph\u001b[0m\u001b[0;34m)\u001b[0m\u001b[0;34m\u001b[0m\u001b[0;34m\u001b[0m\u001b[0m\n\u001b[0m\u001b[1;32m    108\u001b[0m \u001b[0;34m\u001b[0m\u001b[0m\n\u001b[1;32m    109\u001b[0m     \u001b[0;32mdef\u001b[0m \u001b[0mregister_hook\u001b[0m\u001b[0;34m(\u001b[0m\u001b[0mself\u001b[0m\u001b[0;34m,\u001b[0m \u001b[0mhook\u001b[0m\u001b[0;34m)\u001b[0m\u001b[0;34m:\u001b[0m\u001b[0;34m\u001b[0m\u001b[0;34m\u001b[0m\u001b[0m\n",
            "\u001b[0;32m/usr/local/lib/python3.6/dist-packages/torch/autograd/__init__.py\u001b[0m in \u001b[0;36mbackward\u001b[0;34m(tensors, grad_tensors, retain_graph, create_graph, grad_variables)\u001b[0m\n\u001b[1;32m     91\u001b[0m     Variable._execution_engine.run_backward(\n\u001b[1;32m     92\u001b[0m         \u001b[0mtensors\u001b[0m\u001b[0;34m,\u001b[0m \u001b[0mgrad_tensors\u001b[0m\u001b[0;34m,\u001b[0m \u001b[0mretain_graph\u001b[0m\u001b[0;34m,\u001b[0m \u001b[0mcreate_graph\u001b[0m\u001b[0;34m,\u001b[0m\u001b[0;34m\u001b[0m\u001b[0;34m\u001b[0m\u001b[0m\n\u001b[0;32m---> 93\u001b[0;31m         allow_unreachable=True)  # allow_unreachable flag\n\u001b[0m\u001b[1;32m     94\u001b[0m \u001b[0;34m\u001b[0m\u001b[0m\n\u001b[1;32m     95\u001b[0m \u001b[0;34m\u001b[0m\u001b[0m\n",
            "\u001b[0;31mKeyboardInterrupt\u001b[0m: "
          ]
        }
      ]
    },
    {
      "cell_type": "code",
      "metadata": {
        "id": "LdN3X0NuLNjj",
        "colab_type": "code",
        "colab": {}
      },
      "source": [
        "def plot_result(element_index, predict_target_sequence, target_sequence):\n",
        "    predict_target_sequence = predict_target_sequence.detach().cpu().numpy()\n",
        "    target_sequence = target_sequence.detach().cpu().numpy()\n",
        "    predict_target_sequence = predict_target_sequence.reshape(-1,1,28,28)\n",
        "    target_sequence = target_sequence.reshape(-1,1,28,28)\n",
        "    element_index = element_index.detach().cpu().numpy()\n",
        "    \n",
        "    for i in range(10):\n",
        "        fake_image = np.zeros((28,28,3)).reshape(784,3)\n",
        "        fake_image[:,[0,2]] = 0\n",
        "        fake_image[element_index,1] = target_sequence[i].reshape(784)[element_index]\n",
        "        fake_image = fake_image.reshape((28,28,3))\n",
        "        plt.subplots(1,3)\n",
        "        plt.subplot(1,3,1)      \n",
        "        plt.imshow(fake_image)\n",
        "        plt.subplot(1,3,2)\n",
        "        plt.imshow(predict_target_sequence[i,0])\n",
        "        plt.subplot(1,3,3)\n",
        "        plt.imshow(target_sequence[i,0])"
      ],
      "execution_count": null,
      "outputs": []
    },
    {
      "cell_type": "code",
      "metadata": {
        "id": "4aS6oJC_x5mY",
        "colab_type": "code",
        "colab": {
          "base_uri": "https://localhost:8080/",
          "height": 1382
        },
        "outputId": "f6ec914a-05d5-4f4a-93ec-420d7933bc22"
      },
      "source": [
        "test_loader = torch.utils.data.DataLoader(dataset = test_set, shuffle = True, batch_size = batch_size)\n",
        "for epoch in range(1):\n",
        "    for i, data in enumerate(test_loader):\n",
        "        target_sequence, _ = data\n",
        "        print(target_sequence.size())\n",
        "        target_sequence = target_sequence.to(device)\n",
        "        target_sequence = target_sequence.view(batch_size, -1, 1)\n",
        "        context_sequence = get_context_set(28,28)\n",
        "        num_index = np.random.randint(300,350)\n",
        "        element_index = get_element_index(num_index)\n",
        "        select_context_sequence = index_to_context(element_index, context_sequence, batch_size)\n",
        "        select_target_sequence = index_to_target(element_index, target_sequence)\n",
        "        \n",
        "        predict_target_sequence, _ = neuralp(select_context_sequence, select_target_sequence)\n",
        "        print(Reconstruction_Loss(predict_target_sequence, target_sequence))\n",
        "        plot_result(element_index, predict_target_sequence, target_sequence)\n",
        "        \n",
        "        break"
      ],
      "execution_count": null,
      "outputs": [
        {
          "output_type": "stream",
          "text": [
            "torch.Size([100, 1, 28, 28])\n",
            "tensor(11588.4502, device='cuda:0', grad_fn=<BinaryCrossEntropyBackward>)\n"
          ],
          "name": "stdout"
        },
        {
          "output_type": "display_data",
          "data": {
            "image/png": "[encoded data removed]",
            "text/plain": [
              "<Figure size 432x288 with 3 Axes>"
            ]
          },
          "metadata": {
            "tags": []
          }
        },
        {
          "output_type": "display_data",
          "data": {
            "image/png": "[encoded data removed]",
            "text/plain": [
              "<Figure size 432x288 with 3 Axes>"
            ]
          },
          "metadata": {
            "tags": []
          }
        },
        {
          "output_type": "display_data",
          "data": {
            "image/png": "[encoded data removed]",
            "text/plain": [
              "<Figure size 432x288 with 3 Axes>"
            ]
          },
          "metadata": {
            "tags": []
          }
        },
        {
          "output_type": "display_data",
          "data": {
            "image/png": "[encoded data removed]",
            "text/plain": [
              "<Figure size 432x288 with 3 Axes>"
            ]
          },
          "metadata": {
            "tags": []
          }
        },
        {
          "output_type": "display_data",
          "data": {
            "image/png": "[encoded data removed]",
            "text/plain": [
              "<Figure size 432x288 with 3 Axes>"
            ]
          },
          "metadata": {
            "tags": []
          }
        },
        {
          "output_type": "display_data",
          "data": {
            "image/png": "[encoded data removed]",
            "text/plain": [
              "<Figure size 432x288 with 3 Axes>"
            ]
          },
          "metadata": {
            "tags": []
          }
        },
        {
          "output_type": "display_data",
          "data": {
            "image/png": "[encoded data removed]",
            "text/plain": [
              "<Figure size 432x288 with 3 Axes>"
            ]
          },
          "metadata": {
            "tags": []
          }
        },
        {
          "output_type": "display_data",
          "data": {
            "image/png": "[encoded data removed]",
            "text/plain": [
              "<Figure size 432x288 with 3 Axes>"
            ]
          },
          "metadata": {
            "tags": []
          }
        },
        {
          "output_type": "display_data",
          "data": {
            "image/png": "[encoded data removed]",
            "text/plain": [
              "<Figure size 432x288 with 3 Axes>"
            ]
          },
          "metadata": {
            "tags": []
          }
        },
        {
          "output_type": "display_data",
          "data": {
            "image/png": "[encoded data removed]",
            "text/plain": [
              "<Figure size 432x288 with 3 Axes>"
            ]
          },
          "metadata": {
            "tags": []
          }
        }
      ]
    },
    {
      "cell_type": "markdown",
      "metadata": {
        "id": "rnqv1KVZsQJJ",
        "colab_type": "text"
      },
      "source": [
        "GP並不是一筆資料就一個數值，向上述這樣的image其中每個pixel都像是單獨的一筆數值，而要找到F使得它能根據擁有的一些資訊去推得整體的。"
      ]
    },
    {
      "cell_type": "code",
      "metadata": {
        "id": "-4hb5PpriDqi",
        "colab_type": "code",
        "colab": {}
      },
      "source": [
        "data = np.random.normal(size = (5,5,5)).astype('float32')"
      ],
      "execution_count": null,
      "outputs": []
    },
    {
      "cell_type": "code",
      "metadata": {
        "id": "NkvJGq4N8L8m",
        "colab_type": "code",
        "colab": {}
      },
      "source": [
        "data = torch.tensor(data)"
      ],
      "execution_count": null,
      "outputs": []
    },
    {
      "cell_type": "code",
      "metadata": {
        "id": "u3O7USdN8Q48",
        "colab_type": "code",
        "colab": {
          "base_uri": "https://localhost:8080/",
          "height": 35
        },
        "outputId": "97e046f5-d7fb-4c86-adbd-94258c292800"
      },
      "source": [
        "print(data.type())"
      ],
      "execution_count": null,
      "outputs": [
        {
          "output_type": "stream",
          "text": [
            "torch.FloatTensor\n"
          ],
          "name": "stdout"
        }
      ]
    },
    {
      "cell_type": "code",
      "metadata": {
        "id": "1S78HM6a8fnt",
        "colab_type": "code",
        "colab": {}
      },
      "source": [
        "linear = nn.Linear(5,10)"
      ],
      "execution_count": null,
      "outputs": []
    },
    {
      "cell_type": "code",
      "metadata": {
        "id": "-oKClEdU8jil",
        "colab_type": "code",
        "colab": {}
      },
      "source": [
        "data = linear(data)"
      ],
      "execution_count": null,
      "outputs": []
    },
    {
      "cell_type": "code",
      "metadata": {
        "id": "yJO5BJQq8ljl",
        "colab_type": "code",
        "colab": {
          "base_uri": "https://localhost:8080/",
          "height": 35
        },
        "outputId": "df0e3443-6edb-424f-fa82-5022f22e0a3b"
      },
      "source": [
        "print(data.size())"
      ],
      "execution_count": null,
      "outputs": [
        {
          "output_type": "stream",
          "text": [
            "torch.Size([5, 5, 10])\n"
          ],
          "name": "stdout"
        }
      ]
    },
    {
      "cell_type": "code",
      "metadata": {
        "id": "r8aDzjP78mtF",
        "colab_type": "code",
        "colab": {}
      },
      "source": [
        "array = np.random.randint(0,1,(100,))"
      ],
      "execution_count": null,
      "outputs": []
    },
    {
      "cell_type": "code",
      "metadata": {
        "id": "Wmuz2JKyotuW",
        "colab_type": "code",
        "colab": {
          "base_uri": "https://localhost:8080/",
          "height": 72
        },
        "outputId": "452a745b-6a39-42bd-ab66-22f669353e8e"
      },
      "source": [
        "print(array)"
      ],
      "execution_count": null,
      "outputs": [
        {
          "output_type": "stream",
          "text": [
            "[0 0 0 0 0 0 0 0 0 0 0 0 0 0 0 0 0 0 0 0 0 0 0 0 0 0 0 0 0 0 0 0 0 0 0 0 0\n",
            " 0 0 0 0 0 0 0 0 0 0 0 0 0 0 0 0 0 0 0 0 0 0 0 0 0 0 0 0 0 0 0 0 0 0 0 0 0\n",
            " 0 0 0 0 0 0 0 0 0 0 0 0 0 0 0 0 0 0 0 0 0 0 0 0 0 0]\n"
          ],
          "name": "stdout"
        }
      ]
    },
    {
      "cell_type": "code",
      "metadata": {
        "id": "TJANTlnEpDKa",
        "colab_type": "code",
        "colab": {
          "base_uri": "https://localhost:8080/",
          "height": 128
        },
        "outputId": "82aeff37-7340-4e53-8d5d-e48090822af4"
      },
      "source": [
        "http://vividfree.github.io/%E6%9C%BA%E5%99%A8%E5%AD%A6%E4%B9%A0/2017/08/05/understanding-product-quantization"
      ],
      "execution_count": null,
      "outputs": [
        {
          "output_type": "error",
          "ename": "SyntaxError",
          "evalue": "ignored",
          "traceback": [
            "\u001b[0;36m  File \u001b[0;32m\"<ipython-input-1-5b6dd0094f8d>\"\u001b[0;36m, line \u001b[0;32m1\u001b[0m\n\u001b[0;31m    http://vividfree.github.io/%E6%9C%BA%E5%99%A8%E5%AD%A6%E4%B9%A0/2017/08/05/understanding-product-quantization\u001b[0m\n\u001b[0m          ^\u001b[0m\n\u001b[0;31mSyntaxError\u001b[0m\u001b[0;31m:\u001b[0m invalid syntax\n"
          ]
        }
      ]
    },
    {
      "cell_type": "code",
      "metadata": {
        "id": "xAH8JgLmVoho",
        "colab_type": "code",
        "colab": {}
      },
      "source": [
        ""
      ],
      "execution_count": null,
      "outputs": []
    }
  ]
}